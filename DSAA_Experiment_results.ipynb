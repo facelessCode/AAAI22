{
 "cells": [
  {
   "cell_type": "code",
   "execution_count": 1,
   "metadata": {},
   "outputs": [],
   "source": [
    "from codes.data_loader import load_data\n",
    "import numpy as np\n",
    "import pandas as pd\n",
    "import networkx as nx\n",
    "import cvxpy as cp\n",
    "\n",
    "\n",
    "from codes.alg import FPRank, MaxPerception\n",
    "from codes.metrics import evaluate"
   ]
  },
  {
   "cell_type": "markdown",
   "metadata": {},
   "source": [
    "### FPRank Results"
   ]
  },
  {
   "cell_type": "code",
   "execution_count": 2,
   "metadata": {},
   "outputs": [
    {
     "name": "stdout",
     "output_type": "stream",
     "text": [
      "********************\n",
      "year = 2017\n"
     ]
    },
    {
     "name": "stderr",
     "output_type": "stream",
     "text": [
      "100%|██████████| 10/10 [00:42<00:00,  4.20s/it]\n"
     ]
    },
    {
     "name": "stdout",
     "output_type": "stream",
     "text": [
      "    top\n",
      "   average precision: 0.9246 |  weighted statistical disparity: : 0.0657 | Visibility: 0.8709\n"
     ]
    },
    {
     "name": "stderr",
     "output_type": "stream",
     "text": [
      "100%|██████████| 10/10 [00:46<00:00,  4.63s/it]\n"
     ]
    },
    {
     "name": "stdout",
     "output_type": "stream",
     "text": [
      "    famous\n",
      "   average precision: 0.9262 |  weighted statistical disparity: : 0.0709 | Visibility: 0.8709\n",
      "********************\n",
      "year = 2018\n"
     ]
    },
    {
     "name": "stderr",
     "output_type": "stream",
     "text": [
      "100%|██████████| 10/10 [00:43<00:00,  4.37s/it]\n"
     ]
    },
    {
     "name": "stdout",
     "output_type": "stream",
     "text": [
      "    top\n",
      "   average precision: 0.8333 |  weighted statistical disparity: : 0.0049 | Visibility: 0.8682\n"
     ]
    },
    {
     "name": "stderr",
     "output_type": "stream",
     "text": [
      "100%|██████████| 10/10 [00:39<00:00,  3.96s/it]\n"
     ]
    },
    {
     "name": "stdout",
     "output_type": "stream",
     "text": [
      "    famous\n",
      "   average precision: 0.8356 |  weighted statistical disparity: : 0.0391 | Visibility: 0.8607\n",
      "********************\n",
      "year = 2019\n"
     ]
    },
    {
     "name": "stderr",
     "output_type": "stream",
     "text": [
      "100%|██████████| 10/10 [03:07<00:00, 18.70s/it]\n"
     ]
    },
    {
     "name": "stdout",
     "output_type": "stream",
     "text": [
      "    top\n",
      "   average precision: 0.7956 |  weighted statistical disparity: : 0.0040 | Visibility: 0.7463\n"
     ]
    },
    {
     "name": "stderr",
     "output_type": "stream",
     "text": [
      "100%|██████████| 10/10 [02:32<00:00, 15.27s/it]\n"
     ]
    },
    {
     "name": "stdout",
     "output_type": "stream",
     "text": [
      "    famous\n",
      "   average precision: 0.7956 |  weighted statistical disparity: : 0.0044 | Visibility: 0.7449\n",
      "********************\n",
      "year = 2020\n"
     ]
    },
    {
     "name": "stderr",
     "output_type": "stream",
     "text": [
      "100%|██████████| 10/10 [04:26<00:00, 26.64s/it]\n"
     ]
    },
    {
     "name": "stdout",
     "output_type": "stream",
     "text": [
      "    top\n",
      "   average precision: 0.9093 |  weighted statistical disparity: : 0.0000 | Visibility: 0.5023\n"
     ]
    },
    {
     "name": "stderr",
     "output_type": "stream",
     "text": [
      "100%|██████████| 10/10 [04:00<00:00, 24.03s/it]"
     ]
    },
    {
     "name": "stdout",
     "output_type": "stream",
     "text": [
      "    famous\n",
      "   average precision: 0.9085 |  weighted statistical disparity: : 0.0000 | Visibility: 0.5023\n"
     ]
    },
    {
     "name": "stderr",
     "output_type": "stream",
     "text": [
      "\n"
     ]
    }
   ],
   "source": [
    "for year in [2017, 2018, 2019, 2020]:\n",
    "    adj, s , h_c , prt_f, prt_t, W = load_data( year = year )\n",
    "    print(20*'*')\n",
    "    print('year = {}'.format(year))\n",
    "    h  = FPRank(W,s,h_c,prt_t)\n",
    "    print('    top')\n",
    "    evaluate(h,h_c,s,prt_f, W)\n",
    "    h  = FPRank(W,s,h_c,prt_f)\n",
    "    print('    famous')\n",
    "    evaluate(h,h_c,s,prt_f, W)"
   ]
  },
  {
   "cell_type": "markdown",
   "metadata": {},
   "source": [
    "### Max Perception results"
   ]
  },
  {
   "cell_type": "code",
   "execution_count": 2,
   "metadata": {},
   "outputs": [
    {
     "name": "stdout",
     "output_type": "stream",
     "text": [
      "********************\n",
      "year = 2017\n",
      "    top\n",
      "   average precision: 0.6901 |  weighted statistical disparity: : 0.3707 | Visibility: 0.9918\n",
      "    famous\n",
      "   average precision: 0.6901 |  weighted statistical disparity: : 0.2835 | Visibility: 0.9918\n",
      "********************\n",
      "year = 2018\n",
      "    top\n",
      "   average precision: 0.6979 |  weighted statistical disparity: : 0.1831 | Visibility: 0.9577\n",
      "    famous\n",
      "   average precision: 0.6979 |  weighted statistical disparity: : 0.1798 | Visibility: 0.9577\n",
      "********************\n",
      "year = 2019\n",
      "    top\n",
      "   average precision: 0.4601 |  weighted statistical disparity: : 0.0165 | Visibility: 0.8118\n",
      "    famous\n",
      "   average precision: 0.4601 |  weighted statistical disparity: : 0.0557 | Visibility: 0.8118\n",
      "********************\n",
      "year = 2020\n",
      "    top\n",
      "   average precision: 0.3063 |  weighted statistical disparity: : 0.0003 | Visibility: 0.5054\n",
      "    famous\n",
      "   average precision: 0.3063 |  weighted statistical disparity: : 0.0004 | Visibility: 0.5054\n"
     ]
    }
   ],
   "source": [
    "for year in [2017, 2018, 2019, 2020]:\n",
    "    adj, s , h_c , prt_f, prt_t, W = load_data( year = year )\n",
    "    print(20*'*')\n",
    "    print('year = {}'.format(year))\n",
    "    h  = MaxPerception(W,s,h_c,prt_t)\n",
    "    print('    top')\n",
    "    evaluate(h,h_c,s,prt_t, W)\n",
    "    h  = MaxPerception(W,s,h_c,prt_f)\n",
    "    print('    famous')\n",
    "    evaluate(h,h_c,s,prt_f, W)"
   ]
  },
  {
   "cell_type": "markdown",
   "metadata": {},
   "source": [
    "### Other baseline results"
   ]
  },
  {
   "cell_type": "code",
   "execution_count": 4,
   "metadata": {},
   "outputs": [
    {
     "name": "stdout",
     "output_type": "stream",
     "text": [
      "****************************************\n",
      "NO Calibration\n",
      "********************\n",
      "2017\n",
      "    top\n",
      "   average precision: 0.9257 |  weighted statistical disparity: : 0.3003 | Visibility: 0.8340\n",
      "    famous\n",
      "   average precision: 0.9257 |  weighted statistical disparity: : 0.1715 | Visibility: 0.8340\n",
      "********************\n",
      "2018\n",
      "    top\n",
      "   average precision: 0.8480 |  weighted statistical disparity: : 0.1326 | Visibility: 0.8184\n",
      "    famous\n",
      "   average precision: 0.8480 |  weighted statistical disparity: : 0.1326 | Visibility: 0.8184\n",
      "********************\n",
      "2019\n",
      "    top\n",
      "   average precision: 0.9160 |  weighted statistical disparity: : 0.0019 | Visibility: 0.6808\n",
      "    famous\n",
      "   average precision: 0.9160 |  weighted statistical disparity: : 0.0019 | Visibility: 0.6808\n",
      "********************\n",
      "2020\n",
      "    top\n",
      "   average precision: 0.8917 |  weighted statistical disparity: : 0.0000 | Visibility: 0.4977\n",
      "    famous\n",
      "   average precision: 0.8917 |  weighted statistical disparity: : 0.0000 | Visibility: 0.4977\n",
      "****************************************\n",
      "ROC(SPD)\n",
      "********************\n",
      "2017\n",
      "    top\n",
      "   average precision: 0.7687 |  weighted statistical disparity: : 0.3619 | Visibility: 0.7766\n",
      "    famous\n",
      "   average precision: 0.7738 |  weighted statistical disparity: : 0.2375 | Visibility: 0.8094\n",
      "********************\n",
      "2018\n",
      "    top\n",
      "   average precision: 0.7789 |  weighted statistical disparity: : 0.1649 | Visibility: 0.8159\n",
      "    famous\n",
      "   average precision: 0.7575 |  weighted statistical disparity: : 0.1753 | Visibility: 0.8159\n",
      "********************\n",
      "2019\n",
      "    top\n",
      "   average precision: 0.7830 |  weighted statistical disparity: : 0.0065 | Visibility: 0.6758\n",
      "    famous\n",
      "   average precision: 0.7684 |  weighted statistical disparity: : 0.0102 | Visibility: 0.6737\n",
      "********************\n",
      "2020\n",
      "    top\n",
      "   average precision: 0.7381 |  weighted statistical disparity: : 0.0101 | Visibility: 0.5027\n",
      "    famous\n",
      "   average precision: 0.7467 |  weighted statistical disparity: : 0.0103 | Visibility: 0.4977\n",
      "****************************************\n",
      "ROC(EOD)\n",
      "********************\n",
      "2017\n",
      "    top\n",
      "   average precision: 0.7769 |  weighted statistical disparity: : 0.3466 | Visibility: 0.8340\n",
      "    famous\n",
      "   average precision: 0.7769 |  weighted statistical disparity: : 0.1825 | Visibility: 0.8340\n",
      "********************\n",
      "2018\n",
      "    top\n",
      "   average precision: 0.7794 |  weighted statistical disparity: : 0.1637 | Visibility: 0.8159\n",
      "    famous\n",
      "   average precision: 0.7794 |  weighted statistical disparity: : 0.1638 | Visibility: 0.8159\n",
      "********************\n",
      "2019\n",
      "    top\n",
      "   average precision: 0.7797 |  weighted statistical disparity: : 0.0009 | Visibility: 0.6892\n",
      "    famous\n",
      "   average precision: 0.7797 |  weighted statistical disparity: : 0.0002 | Visibility: 0.6892\n",
      "********************\n",
      "2020\n",
      "    top\n",
      "   average precision: 0.7611 |  weighted statistical disparity: : 0.0000 | Visibility: 0.4973\n",
      "    famous\n",
      "   average precision: 0.7611 |  weighted statistical disparity: : 0.0000 | Visibility: 0.4973\n",
      "****************************************\n",
      "CPP(FPR)\n",
      "********************\n",
      "2017\n",
      "    top\n",
      "   average precision: 0.5606 |  weighted statistical disparity: : 0.6164 | Visibility: 0.7889\n",
      "    famous\n",
      "   average precision: 0.5641 |  weighted statistical disparity: : 0.7653 | Visibility: 0.8197\n",
      "********************\n",
      "2018\n",
      "    top\n",
      "   average precision: 0.6934 |  weighted statistical disparity: : 0.1637 | Visibility: 0.8358\n",
      "    famous\n",
      "   average precision: 0.6976 |  weighted statistical disparity: : 0.1637 | Visibility: 0.8308\n",
      "********************\n",
      "2019\n",
      "    top\n",
      "   average precision: 0.5074 |  weighted statistical disparity: : 0.0000 | Visibility: 0.6723\n",
      "    famous\n",
      "   average precision: 0.5074 |  weighted statistical disparity: : 0.0002 | Visibility: 0.6723\n",
      "********************\n",
      "2020\n",
      "    top\n",
      "   average precision: 0.6705 |  weighted statistical disparity: : 0.0001 | Visibility: 0.4991\n",
      "    famous\n",
      "   average precision: 0.6705 |  weighted statistical disparity: : 0.0001 | Visibility: 0.4991\n",
      "****************************************\n",
      "FairTopK\n",
      "********************\n",
      "2017\n",
      "    top\n",
      "   average precision: 0.9004 |  weighted statistical disparity: : 0.3446 | Visibility: 0.8340\n",
      "    famous\n",
      "   average precision: 0.8971 |  weighted statistical disparity: : 0.1830 | Visibility: 0.8320\n",
      "********************\n",
      "2018\n",
      "    top\n",
      "   average precision: 0.8288 |  weighted statistical disparity: : 0.1646 | Visibility: 0.8184\n",
      "    famous\n",
      "   average precision: 0.8263 |  weighted statistical disparity: : 0.1649 | Visibility: 0.8134\n",
      "********************\n",
      "2019\n",
      "    top\n",
      "   average precision: 0.8810 |  weighted statistical disparity: : 0.0021 | Visibility: 0.6794\n",
      "    famous\n",
      "   average precision: 0.8790 |  weighted statistical disparity: : 0.0022 | Visibility: 0.6758\n",
      "********************\n",
      "2020\n",
      "    top\n",
      "   average precision: 0.8464 |  weighted statistical disparity: : 0.0005 | Visibility: 0.4986\n",
      "    famous\n",
      "   average precision: 0.8487 |  weighted statistical disparity: : 0.0006 | Visibility: 0.4973\n"
     ]
    }
   ],
   "source": [
    "for i,baseline in enumerate(['NO Calibration','ROC(SPD)', 'ROC(EOD)', 'CPP(FPR)','FairTopK']):\n",
    "    print(40*'*')\n",
    "    print(baseline)\n",
    "    for year in [2017, 2018, 2019,2020]:\n",
    "        print(20*'*')\n",
    "        print(year)\n",
    "        adj, s , h_c , prt_f, prt_t, W = load_data( year = year )\n",
    "        for prt in ['top', 'famous']:\n",
    "            print('    {}'.format(prt))\n",
    "            if not(baseline == 'NO Calibration'):\n",
    "                h = pd.read_csv('./data/Baseline/ICLR{}{}{}.csv'.format(year,prt ,baseline))['h'].to_numpy()\n",
    "            if prt =='top':\n",
    "                if baseline == 'NO Calibration':\n",
    "                    evaluate(s,h_c,s,prt_t, W)\n",
    "                else:\n",
    "                    evaluate(h,h_c,s,prt_t, W)\n",
    "            else:\n",
    "                if baseline == 'NO Calibration':\n",
    "                    evaluate(s,h_c,s,prt_f, W)\n",
    "                else:\n",
    "                    evaluate(h,h_c,s,prt_f, W)"
   ]
  },
  {
   "cell_type": "code",
   "execution_count": 3,
   "metadata": {},
   "outputs": [
    {
     "name": "stdout",
     "output_type": "stream",
     "text": [
      "********************\n",
      "year = 2017\n",
      "    top\n",
      "   average precision: 0.9257 |  weighted statistical disparity: : 0.3003 | Visibility: 0.8340\n",
      "    famous\n",
      "   average precision: 0.9257 |  weighted statistical disparity: : 0.1715 | Visibility: 0.8340\n",
      "********************\n",
      "year = 2018\n",
      "    top\n",
      "   average precision: 0.8480 |  weighted statistical disparity: : 0.1326 | Visibility: 0.8184\n",
      "    famous\n",
      "   average precision: 0.8480 |  weighted statistical disparity: : 0.1326 | Visibility: 0.8184\n",
      "********************\n",
      "year = 2019\n",
      "    top\n",
      "   average precision: 0.9160 |  weighted statistical disparity: : 0.0019 | Visibility: 0.6808\n",
      "    famous\n",
      "   average precision: 0.9160 |  weighted statistical disparity: : 0.0019 | Visibility: 0.6808\n",
      "********************\n",
      "year = 2020\n",
      "    top\n",
      "   average precision: 0.8917 |  weighted statistical disparity: : 0.0000 | Visibility: 0.4977\n",
      "    famous\n",
      "   average precision: 0.8917 |  weighted statistical disparity: : 0.0000 | Visibility: 0.4977\n"
     ]
    }
   ],
   "source": [
    "for year in [2017, 2018, 2019, 2020]:\n",
    "    adj, s , h_c , prt_f, prt_t, W = load_data( year = year )\n",
    "    print(20*'*')\n",
    "    print('year = {}'.format(year))\n",
    "    print('    top')\n",
    "    evaluate(s,h_c,s,prt_t, W)\n",
    "    print('    famous')\n",
    "    evaluate(s,h_c,s,prt_f, W)"
   ]
  },
  {
   "cell_type": "code",
   "execution_count": null,
   "metadata": {},
   "outputs": [],
   "source": []
  }
 ],
 "metadata": {
  "kernelspec": {
   "display_name": "Python 3",
   "language": "python",
   "name": "python3"
  },
  "language_info": {
   "codemirror_mode": {
    "name": "ipython",
    "version": 3
   },
   "file_extension": ".py",
   "mimetype": "text/x-python",
   "name": "python",
   "nbconvert_exporter": "python",
   "pygments_lexer": "ipython3",
   "version": "3.7.9"
  }
 },
 "nbformat": 4,
 "nbformat_minor": 4
}
